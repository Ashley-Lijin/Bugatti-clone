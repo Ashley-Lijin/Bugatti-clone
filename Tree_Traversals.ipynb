{
  "nbformat": 4,
  "nbformat_minor": 0,
  "metadata": {
    "colab": {
      "provenance": [],
      "authorship_tag": "ABX9TyMjlnLruADmnRm5d+wyf0Pi",
      "include_colab_link": true
    },
    "kernelspec": {
      "name": "python3",
      "display_name": "Python 3"
    },
    "language_info": {
      "name": "python"
    }
  },
  "cells": [
    {
      "cell_type": "markdown",
      "metadata": {
        "id": "view-in-github",
        "colab_type": "text"
      },
      "source": [
        "<a href=\"https://colab.research.google.com/github/Ashley-Lijin/Bugatti-clone/blob/main/Tree_Traversals.ipynb\" target=\"_parent\"><img src=\"https://colab.research.google.com/assets/colab-badge.svg\" alt=\"Open In Colab\"/></a>"
      ]
    },
    {
      "cell_type": "code",
      "source": [
        "class Node:\n",
        "  def __init__(self,val):\n",
        "    self.val = val\n",
        "    self.left = None\n",
        "    self.right = None\n"
      ],
      "metadata": {
        "id": "TKoKGHSG6B7N"
      },
      "execution_count": 2,
      "outputs": []
    },
    {
      "cell_type": "markdown",
      "source": [
        "**In Order Traversal**"
      ],
      "metadata": {
        "id": "uSMzrjrdQaiJ"
      }
    },
    {
      "cell_type": "code",
      "source": [
        "def inOrder(root):\n",
        "  if root:\n",
        "    inOrder(root.left)\n",
        "    print(root.val)\n",
        "    inOrder(root.right)\n",
        "    \n",
        "\n",
        "if __name__ == '__main__':\n",
        "  root = Node(1)\n",
        "  root.left = Node(2)\n",
        "  root.left.left = Node(3)\n",
        "  root.left.right = Node(4)\n",
        "  root.right = Node(5)\n",
        "\n",
        "  inOrder(root)"
      ],
      "metadata": {
        "colab": {
          "base_uri": "https://localhost:8080/"
        },
        "id": "kOtz7LjNPvgx",
        "outputId": "ea1cc363-a0d6-4513-baee-4fff6aa5b2d6"
      },
      "execution_count": 11,
      "outputs": [
        {
          "output_type": "stream",
          "name": "stdout",
          "text": [
            "3\n",
            "2\n",
            "4\n",
            "1\n",
            "5\n"
          ]
        }
      ]
    },
    {
      "cell_type": "code",
      "source": [],
      "metadata": {
        "id": "eSRp438QTP8L"
      },
      "execution_count": null,
      "outputs": []
    }
  ]
}