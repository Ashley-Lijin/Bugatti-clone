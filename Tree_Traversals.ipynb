{
  "nbformat": 4,
  "nbformat_minor": 0,
  "metadata": {
    "colab": {
      "provenance": [],
      "authorship_tag": "ABX9TyNoXAb8XTXJroVNPpVcv9qr",
      "include_colab_link": true
    },
    "kernelspec": {
      "name": "python3",
      "display_name": "Python 3"
    },
    "language_info": {
      "name": "python"
    }
  },
  "cells": [
    {
      "cell_type": "markdown",
      "metadata": {
        "id": "view-in-github",
        "colab_type": "text"
      },
      "source": [
        "<a href=\"https://colab.research.google.com/github/Ashley-Lijin/Bugatti-clone/blob/main/Tree_Traversals.ipynb\" target=\"_parent\"><img src=\"https://colab.research.google.com/assets/colab-badge.svg\" alt=\"Open In Colab\"/></a>"
      ]
    },
    {
      "cell_type": "markdown",
      "source": [
        "# Binary Tree Traversal\n",
        "\n",
        "This repository contains Python code for performing in-order, pre-order, and post-order traversals of a binary tree.\n",
        "## Description\n",
        "\n",
        "The code in this repository demonstrates how to traverse a binary tree using different traversal methods: in-order, pre-order, and post-order.\n",
        "\n",
        "- `Node` class: Represents a node in a binary tree. Each node contains a value, a reference to the left child node, and a reference to the right child node.\n",
        "\n",
        "- `in_order_traversal` function: Performs an in-order traversal of a binary tree.\n",
        "\n",
        "- `pre_order_traversal` function: Performs a pre-order traversal of a binary tree.\n",
        "\n",
        "- `post_order_traversal` function: Performs a post-order traversal of a binary tree.\n"
      ],
      "metadata": {
        "id": "Mk_Wv68nZhTj"
      }
    },
    {
      "cell_type": "markdown",
      "source": [
        "## Binary tree"
      ],
      "metadata": {
        "id": "ZTqtHpllZ_So"
      }
    },
    {
      "cell_type": "code",
      "source": [
        "class Node:\n",
        "    # Represents a node in a binary tree.\n",
        "    def __init__(self, value):\n",
        "        # Initializes a new instance of the Node class.\n",
        "        self.val = value\n",
        "        self.left = None\n",
        "        self.right = None"
      ],
      "metadata": {
        "id": "TKoKGHSG6B7N"
      },
      "execution_count": 28,
      "outputs": []
    },
    {
      "cell_type": "markdown",
      "source": [
        "**In order traversal**"
      ],
      "metadata": {
        "id": "uSMzrjrdQaiJ"
      }
    },
    {
      "cell_type": "code",
      "source": [
        "def in_order_traversal(root):\n",
        "  # Performs an in-order traversal of a binary tree.\n",
        "  if root:\n",
        "    in_order_traversal(root.left)\n",
        "    print(root.val)\n",
        "    in_order_traversal(root.right)\n",
        "    \n",
        "in_order_traversal(root)"
      ],
      "metadata": {
        "colab": {
          "base_uri": "https://localhost:8080/"
        },
        "id": "kOtz7LjNPvgx",
        "outputId": "95eddc2d-9c9f-49b3-b1d9-2883ae8f40c2"
      },
      "execution_count": 29,
      "outputs": [
        {
          "output_type": "stream",
          "name": "stdout",
          "text": [
            "4\n",
            "2\n",
            "5\n",
            "1\n",
            "3\n"
          ]
        }
      ]
    },
    {
      "cell_type": "markdown",
      "source": [
        "**pre order traversal**"
      ],
      "metadata": {
        "id": "789UtFtJaqCe"
      }
    },
    {
      "cell_type": "code",
      "source": [
        "def pre_order_traversal(root):\n",
        "  # Performs a pre-order traversal of a binary tree.\n",
        "  if root:\n",
        "    print(root.val)\n",
        "    pre_order_traversal(root.left)\n",
        "    pre_order_traversal(root.right)\n",
        "\n",
        "pre_order_traversal(root)"
      ],
      "metadata": {
        "id": "eSRp438QTP8L",
        "colab": {
          "base_uri": "https://localhost:8080/"
        },
        "outputId": "cdd92415-95a0-40d6-bf43-d81c7d6a3a88"
      },
      "execution_count": 30,
      "outputs": [
        {
          "output_type": "stream",
          "name": "stdout",
          "text": [
            "1\n",
            "2\n",
            "4\n",
            "5\n",
            "3\n"
          ]
        }
      ]
    },
    {
      "cell_type": "markdown",
      "source": [
        "**post order traversal**"
      ],
      "metadata": {
        "id": "hQrrQseSaxuM"
      }
    },
    {
      "cell_type": "code",
      "source": [
        "def post_order_traversal(root):\n",
        "  # Performs a post-order traversal of a binary tree.\n",
        "  if root:\n",
        "    post_order_traversal(root.left)\n",
        "    post_order_traversal(root.right)\n",
        "    print(root.val)\n",
        "\n",
        "post_order_traversal(root)"
      ],
      "metadata": {
        "colab": {
          "base_uri": "https://localhost:8080/"
        },
        "id": "T1CplCCtQvop",
        "outputId": "328a15c3-3a07-434e-c161-c2af5799c9f5"
      },
      "execution_count": 31,
      "outputs": [
        {
          "output_type": "stream",
          "name": "stdout",
          "text": [
            "4\n",
            "5\n",
            "2\n",
            "3\n",
            "1\n"
          ]
        }
      ]
    },
    {
      "cell_type": "markdown",
      "source": [
        "**binary tree**"
      ],
      "metadata": {
        "id": "e6e2jgYda0zB"
      }
    },
    {
      "cell_type": "code",
      "source": [
        "if __name__ == '__main__':\n",
        "  # Create a binary tree\n",
        "  root = Node(1)\n",
        "  root.left = Node(2)\n",
        "  root.right = Node(3)\n",
        "  root.left.left = Node(4)\n",
        "  root.left.right = Node(5)"
      ],
      "metadata": {
        "id": "hbcInO-rRzpp"
      },
      "execution_count": 32,
      "outputs": []
    }
  ]
}